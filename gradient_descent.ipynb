{
  "nbformat": 4,
  "nbformat_minor": 0,
  "metadata": {
    "colab": {
      "name": "gradient_descent.ipynb",
      "provenance": [],
      "collapsed_sections": [],
      "authorship_tag": "ABX9TyNQ4NY8+yq41PfEfhNQzC/7",
      "include_colab_link": true
    },
    "kernelspec": {
      "name": "python3",
      "display_name": "Python 3"
    },
    "language_info": {
      "name": "python"
    }
  },
  "cells": [
    {
      "cell_type": "markdown",
      "metadata": {
        "id": "view-in-github",
        "colab_type": "text"
      },
      "source": [
        "<a href=\"https://colab.research.google.com/github/donib-irakihda/fusemachines-ai-fellowship/blob/main/gradient_descent.ipynb\" target=\"_parent\"><img src=\"https://colab.research.google.com/assets/colab-badge.svg\" alt=\"Open In Colab\"/></a>"
      ]
    },
    {
      "cell_type": "code",
      "execution_count": null,
      "metadata": {
        "id": "I2uQIPHX0hHJ"
      },
      "outputs": [],
      "source": [
        "def gradient_descent(gradient, x_init, alpha=0.01, max_iters=10000, precision=1e-8):\n",
        "  x = x_init\n",
        "  iteration = 0\n",
        "\n",
        "  while abs(gradient(x)) > precision and iteration < max_iters:\n",
        "    x = x - alpha * gradient(x)\n",
        "    iteration += 1\n",
        "  x_opt = x\n",
        "\n",
        "  return x_opt, iteration\n"
      ]
    },
    {
      "cell_type": "code",
      "source": [
        "def f(x):\n",
        "  return x**2 + 3*x - 5\n",
        "\n",
        "def gradient_f(x):\n",
        "  return 2*x + 3"
      ],
      "metadata": {
        "id": "B6oGkbqr20it"
      },
      "execution_count": null,
      "outputs": []
    },
    {
      "cell_type": "code",
      "source": [
        "x_init = 2.4\n",
        "alpha = 0.25\n",
        "\n",
        "x_optimal, steps = gradient_descent(gradient_f, x_init, alpha)\n",
        "print(\"optimal x:\", x_optimal)\n",
        "print(\"min f(x):\", f(x_optimal))\n",
        "print(\"no of steps: \", steps)"
      ],
      "metadata": {
        "colab": {
          "base_uri": "https://localhost:8080/"
        },
        "id": "C3rKPlp72gIv",
        "outputId": "e903c607-39c3-4c94-a7b4-73c2f4350385"
      },
      "execution_count": null,
      "outputs": [
        {
          "output_type": "stream",
          "name": "stdout",
          "text": [
            "optimal x: -1.4999999963678419\n",
            "min f(x): -7.25\n",
            "no of steps:  30\n"
          ]
        }
      ]
    },
    {
      "cell_type": "code",
      "source": [
        "alpha = 0.95\n",
        "x_optimal, steps = gradient_descent(gradient_f, x_init, alpha)\n",
        "print(\"optimal x:\", x_optimal)\n",
        "print(\"min f(x):\", f(x_optimal))\n",
        "print(\"no of steps: \", steps)"
      ],
      "metadata": {
        "colab": {
          "base_uri": "https://localhost:8080/"
        },
        "id": "H_qR-SUP3jrv",
        "outputId": "c07fe5aa-5853-43e9-9a53-a25107d8b746"
      },
      "execution_count": null,
      "outputs": [
        {
          "output_type": "stream",
          "name": "stdout",
          "text": [
            "optimal x: -1.5000000046596569\n",
            "min f(x): -7.25\n",
            "no of steps:  195\n"
          ]
        }
      ]
    },
    {
      "cell_type": "code",
      "source": [
        ""
      ],
      "metadata": {
        "id": "dx2i06pz302m"
      },
      "execution_count": null,
      "outputs": []
    }
  ]
}