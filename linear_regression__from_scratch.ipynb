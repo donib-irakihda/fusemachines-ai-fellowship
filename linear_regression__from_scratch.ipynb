{
  "nbformat": 4,
  "nbformat_minor": 0,
  "metadata": {
    "colab": {
      "name": "linear_regression _from_scratch.ipynb",
      "provenance": [],
      "authorship_tag": "ABX9TyOoc+S6lBoh0S5Jda1g2zZR",
      "include_colab_link": true
    },
    "kernelspec": {
      "name": "python3",
      "display_name": "Python 3"
    },
    "language_info": {
      "name": "python"
    }
  },
  "cells": [
    {
      "cell_type": "markdown",
      "metadata": {
        "id": "view-in-github",
        "colab_type": "text"
      },
      "source": [
        "<a href=\"https://colab.research.google.com/github/donib-irakihda/fusemachines-ai-fellowship/blob/main/linear_regression__from_scratch.ipynb\" target=\"_parent\"><img src=\"https://colab.research.google.com/assets/colab-badge.svg\" alt=\"Open In Colab\"/></a>"
      ]
    },
    {
      "cell_type": "code",
      "execution_count": 3,
      "metadata": {
        "colab": {
          "base_uri": "https://localhost:8080/"
        },
        "id": "CmNGLkr3nhls",
        "outputId": "a6d1e671-8f21-44a3-d37b-5b8e5def02fb"
      },
      "outputs": [
        {
          "output_type": "stream",
          "name": "stdout",
          "text": [
            "[[ 0.49109521 -0.40242644 -0.92156595 -0.1052653 ]\n",
            " [ 0.90298151  1.37532553  1.3897809   1.27398003]\n",
            " [-1.39407672 -0.97289909 -0.46821496 -1.16871473]]\n",
            "[0.99 3.12 4.47 4.51]\n",
            "[0.63124216 2.26128282 1.34553583 3.70492465]\n"
          ]
        }
      ],
      "source": [
        "import numpy as np\n",
        "import matplotlib.pyplot as plt\n",
        "\n",
        "def featureNormalization(X):\n",
        "  X_mean = np.mean(X, axis = 0)\n",
        "  X_std = np.std(X, axis=0)\n",
        "  X_normalized = np.zeros((X.shape[0], X.shape[1]))\n",
        "\n",
        "  for x in range(0, X.shape[0]):\n",
        "    for y in range(0, X.shape[1]):\n",
        "      normalized_value = (X[x,y]-X_mean[y])/X_std[y]\n",
        "      X_normalized[x,y] = normalized_value\n",
        "  return X_normalized, X_mean, X_std\n",
        "\n",
        "X = np.array([[1.30,2.21,3.23,4.12], [1.56, 6.23, 6.34, 9.23], [0.11, 0.92, 3.84, 0.18]])\n",
        "X_normalized, X_mean, X_std = featureNormalization(X)\n",
        "print(X_normalized)\n",
        "print(X_mean)\n",
        "print(X_std)\n"
      ]
    },
    {
      "cell_type": "code",
      "source": [
        "def applyNormalization(X, X_mean, X_std):\n",
        "  X_normalized = np.zeros((X.shape[0], X.shape[1]))\n",
        "  for x in range(0, X.shape[0]):\n",
        "    for y in range(0, X.shape[1]):\n",
        "      normalized_value = (X[x,y]-X_mean[y])/X_std[y]\n",
        "      X_normalized[x,y] = normalized_value\n",
        "\n",
        "  return X_normalized\n",
        "\n",
        "X = np.array([[1.30,2.21,3.23,4.12], [1.56, 6.23, 6.34, 9.23], [0.11, 0.92, 3.84, 0.18]])\n",
        "X_mean = np.array([1.0, 1.0, 2.0, 0.1])\n",
        "X_std = np.array([1.0, 1.0, 2.0, 0.1])\n",
        "X_normalized = applyNormalization(X, X_mean, X_std)\n",
        "print(X_normalized)"
      ],
      "metadata": {
        "colab": {
          "base_uri": "https://localhost:8080/"
        },
        "id": "2eh50jaVqfM6",
        "outputId": "eb5d5100-2f42-459c-95e2-99ab9ccc5f50"
      },
      "execution_count": 5,
      "outputs": [
        {
          "output_type": "stream",
          "name": "stdout",
          "text": [
            "[[ 3.00e-01  1.21e+00  6.15e-01  4.02e+01]\n",
            " [ 5.60e-01  5.23e+00  2.17e+00  9.13e+01]\n",
            " [-8.90e-01 -8.00e-02  9.20e-01  8.00e-01]]\n"
          ]
        }
      ]
    },
    {
      "cell_type": "code",
      "source": [
        ""
      ],
      "metadata": {
        "id": "8N-bcd6HsUe5"
      },
      "execution_count": null,
      "outputs": []
    }
  ]
}