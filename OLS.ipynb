{
  "nbformat": 4,
  "nbformat_minor": 0,
  "metadata": {
    "colab": {
      "name": "OLS.ipynb",
      "provenance": [],
      "collapsed_sections": [],
      "authorship_tag": "ABX9TyM22PpZ3LhU2tD/BPCSFJW4",
      "include_colab_link": true
    },
    "kernelspec": {
      "name": "python3",
      "display_name": "Python 3"
    },
    "language_info": {
      "name": "python"
    }
  },
  "cells": [
    {
      "cell_type": "markdown",
      "metadata": {
        "id": "view-in-github",
        "colab_type": "text"
      },
      "source": [
        "<a href=\"https://colab.research.google.com/github/donib-irakihda/fusemachines-ai-fellowship/blob/main/OLS.ipynb\" target=\"_parent\"><img src=\"https://colab.research.google.com/assets/colab-badge.svg\" alt=\"Open In Colab\"/></a>"
      ]
    },
    {
      "cell_type": "code",
      "source": [
        "## Using OLS method to find our b1, b0 for linear regression "
      ],
      "metadata": {
        "id": "zuJkSCFrA4gW"
      },
      "execution_count": null,
      "outputs": []
    },
    {
      "cell_type": "code",
      "execution_count": null,
      "metadata": {
        "id": "9Gm6eW7axOH3"
      },
      "outputs": [],
      "source": [
        "import numpy as np\n",
        "import pandas as pd\n",
        "import matplotlib.pyplot as plt\n",
        "import matplotlib as mpl\n",
        "from IPython.display import display, HTML"
      ]
    },
    {
      "cell_type": "code",
      "source": [
        "data_path = \"https://www.statlearning.com/s/Advertising.csv\" \n",
        "data_df = pd.read_csv(data_path, index_col=0)\n",
        "data_df.head()"
      ],
      "metadata": {
        "colab": {
          "base_uri": "https://localhost:8080/",
          "height": 206
        },
        "id": "G8xV2W2w4Wl1",
        "outputId": "a915a46a-7c47-496b-c4b1-c5b23b19eb6e"
      },
      "execution_count": null,
      "outputs": [
        {
          "output_type": "execute_result",
          "data": {
            "text/plain": [
              "      TV  radio  newspaper  sales\n",
              "1  230.1   37.8       69.2   22.1\n",
              "2   44.5   39.3       45.1   10.4\n",
              "3   17.2   45.9       69.3    9.3\n",
              "4  151.5   41.3       58.5   18.5\n",
              "5  180.8   10.8       58.4   12.9"
            ],
            "text/html": [
              "\n",
              "  <div id=\"df-6ffc6388-6483-42b0-9ffd-9e7d42617ac1\">\n",
              "    <div class=\"colab-df-container\">\n",
              "      <div>\n",
              "<style scoped>\n",
              "    .dataframe tbody tr th:only-of-type {\n",
              "        vertical-align: middle;\n",
              "    }\n",
              "\n",
              "    .dataframe tbody tr th {\n",
              "        vertical-align: top;\n",
              "    }\n",
              "\n",
              "    .dataframe thead th {\n",
              "        text-align: right;\n",
              "    }\n",
              "</style>\n",
              "<table border=\"1\" class=\"dataframe\">\n",
              "  <thead>\n",
              "    <tr style=\"text-align: right;\">\n",
              "      <th></th>\n",
              "      <th>TV</th>\n",
              "      <th>radio</th>\n",
              "      <th>newspaper</th>\n",
              "      <th>sales</th>\n",
              "    </tr>\n",
              "  </thead>\n",
              "  <tbody>\n",
              "    <tr>\n",
              "      <th>1</th>\n",
              "      <td>230.1</td>\n",
              "      <td>37.8</td>\n",
              "      <td>69.2</td>\n",
              "      <td>22.1</td>\n",
              "    </tr>\n",
              "    <tr>\n",
              "      <th>2</th>\n",
              "      <td>44.5</td>\n",
              "      <td>39.3</td>\n",
              "      <td>45.1</td>\n",
              "      <td>10.4</td>\n",
              "    </tr>\n",
              "    <tr>\n",
              "      <th>3</th>\n",
              "      <td>17.2</td>\n",
              "      <td>45.9</td>\n",
              "      <td>69.3</td>\n",
              "      <td>9.3</td>\n",
              "    </tr>\n",
              "    <tr>\n",
              "      <th>4</th>\n",
              "      <td>151.5</td>\n",
              "      <td>41.3</td>\n",
              "      <td>58.5</td>\n",
              "      <td>18.5</td>\n",
              "    </tr>\n",
              "    <tr>\n",
              "      <th>5</th>\n",
              "      <td>180.8</td>\n",
              "      <td>10.8</td>\n",
              "      <td>58.4</td>\n",
              "      <td>12.9</td>\n",
              "    </tr>\n",
              "  </tbody>\n",
              "</table>\n",
              "</div>\n",
              "      <button class=\"colab-df-convert\" onclick=\"convertToInteractive('df-6ffc6388-6483-42b0-9ffd-9e7d42617ac1')\"\n",
              "              title=\"Convert this dataframe to an interactive table.\"\n",
              "              style=\"display:none;\">\n",
              "        \n",
              "  <svg xmlns=\"http://www.w3.org/2000/svg\" height=\"24px\"viewBox=\"0 0 24 24\"\n",
              "       width=\"24px\">\n",
              "    <path d=\"M0 0h24v24H0V0z\" fill=\"none\"/>\n",
              "    <path d=\"M18.56 5.44l.94 2.06.94-2.06 2.06-.94-2.06-.94-.94-2.06-.94 2.06-2.06.94zm-11 1L8.5 8.5l.94-2.06 2.06-.94-2.06-.94L8.5 2.5l-.94 2.06-2.06.94zm10 10l.94 2.06.94-2.06 2.06-.94-2.06-.94-.94-2.06-.94 2.06-2.06.94z\"/><path d=\"M17.41 7.96l-1.37-1.37c-.4-.4-.92-.59-1.43-.59-.52 0-1.04.2-1.43.59L10.3 9.45l-7.72 7.72c-.78.78-.78 2.05 0 2.83L4 21.41c.39.39.9.59 1.41.59.51 0 1.02-.2 1.41-.59l7.78-7.78 2.81-2.81c.8-.78.8-2.07 0-2.86zM5.41 20L4 18.59l7.72-7.72 1.47 1.35L5.41 20z\"/>\n",
              "  </svg>\n",
              "      </button>\n",
              "      \n",
              "  <style>\n",
              "    .colab-df-container {\n",
              "      display:flex;\n",
              "      flex-wrap:wrap;\n",
              "      gap: 12px;\n",
              "    }\n",
              "\n",
              "    .colab-df-convert {\n",
              "      background-color: #E8F0FE;\n",
              "      border: none;\n",
              "      border-radius: 50%;\n",
              "      cursor: pointer;\n",
              "      display: none;\n",
              "      fill: #1967D2;\n",
              "      height: 32px;\n",
              "      padding: 0 0 0 0;\n",
              "      width: 32px;\n",
              "    }\n",
              "\n",
              "    .colab-df-convert:hover {\n",
              "      background-color: #E2EBFA;\n",
              "      box-shadow: 0px 1px 2px rgba(60, 64, 67, 0.3), 0px 1px 3px 1px rgba(60, 64, 67, 0.15);\n",
              "      fill: #174EA6;\n",
              "    }\n",
              "\n",
              "    [theme=dark] .colab-df-convert {\n",
              "      background-color: #3B4455;\n",
              "      fill: #D2E3FC;\n",
              "    }\n",
              "\n",
              "    [theme=dark] .colab-df-convert:hover {\n",
              "      background-color: #434B5C;\n",
              "      box-shadow: 0px 1px 3px 1px rgba(0, 0, 0, 0.15);\n",
              "      filter: drop-shadow(0px 1px 2px rgba(0, 0, 0, 0.3));\n",
              "      fill: #FFFFFF;\n",
              "    }\n",
              "  </style>\n",
              "\n",
              "      <script>\n",
              "        const buttonEl =\n",
              "          document.querySelector('#df-6ffc6388-6483-42b0-9ffd-9e7d42617ac1 button.colab-df-convert');\n",
              "        buttonEl.style.display =\n",
              "          google.colab.kernel.accessAllowed ? 'block' : 'none';\n",
              "\n",
              "        async function convertToInteractive(key) {\n",
              "          const element = document.querySelector('#df-6ffc6388-6483-42b0-9ffd-9e7d42617ac1');\n",
              "          const dataTable =\n",
              "            await google.colab.kernel.invokeFunction('convertToInteractive',\n",
              "                                                     [key], {});\n",
              "          if (!dataTable) return;\n",
              "\n",
              "          const docLinkHtml = 'Like what you see? Visit the ' +\n",
              "            '<a target=\"_blank\" href=https://colab.research.google.com/notebooks/data_table.ipynb>data table notebook</a>'\n",
              "            + ' to learn more about interactive tables.';\n",
              "          element.innerHTML = '';\n",
              "          dataTable['output_type'] = 'display_data';\n",
              "          await google.colab.output.renderOutput(dataTable, element);\n",
              "          const docLink = document.createElement('div');\n",
              "          docLink.innerHTML = docLinkHtml;\n",
              "          element.appendChild(docLink);\n",
              "        }\n",
              "      </script>\n",
              "    </div>\n",
              "  </div>\n",
              "  "
            ]
          },
          "metadata": {},
          "execution_count": 2
        }
      ]
    },
    {
      "cell_type": "code",
      "source": [
        "fig = plt.figure(figsize=(15,4))\n",
        "gs = mpl.gridspec.GridSpec(1,3)\n",
        "\n",
        "# Plot of sales vs TV\n",
        "ax = fig.add_subplot(gs[0])\n",
        "ax.scatter(data_df['TV'], data_df['sales'],color='red', marker='.')\n",
        "ax.set_xlabel(\"TV\")\n",
        "ax.set_ylabel(\"sales\")\n",
        "\n",
        "# Plot of sales vs radio\n",
        "ax = fig.add_subplot(gs[1])\n",
        "ax.scatter(data_df['radio'], data_df['sales'], color='green', marker='.')\n",
        "ax.set_xlabel(\"radio\")\n",
        "ax.set_ylabel(\"sales\")\n",
        "\n",
        "# Plot of sales vs newspaper\n",
        "ax = fig.add_subplot(gs[2])\n",
        "ax.scatter(data_df['newspaper'], data_df['sales'], color='blue', marker='.')\n",
        "ax.set_xlabel(\"newspaper\")\n",
        "ax.set_ylabel(\"sales\")\n",
        "\n",
        "plt.show()"
      ],
      "metadata": {
        "colab": {
          "base_uri": "https://localhost:8080/",
          "height": 279
        },
        "id": "8wViJclm4ky-",
        "outputId": "14a96b13-e787-4954-eaa4-5e573482cd90"
      },
      "execution_count": null,
      "outputs": [
        {
          "output_type": "display_data",
          "data": {
            "text/plain": [
              "<Figure size 1080x288 with 3 Axes>"
            ],
            "image/png": "[encoded data removed]"
          },
          "metadata": {
            "needs_background": "light"
          }
        }
      ]
    },
    {
      "cell_type": "code",
      "source": [
        "fig = plt.figure(figsize=(15,4))\n",
        "gs = mpl.gridspec.GridSpec(1,3)\n",
        "\n",
        "def train_plot(data_df, feature, ax, c):\n",
        "\n",
        "  X = data_df[[feature]].values\n",
        "  Y = data_df[[\"sales\"]].values\n",
        "\n",
        "  x_mean = np.mean(X)\n",
        "  y_mean = np.mean(Y)\n",
        "  \n",
        "  n = len(X)\n",
        "\n",
        "  # Using OLS formula to calculate the b1 and b0\n",
        "  numerator = 0\n",
        "  denominator = 0\n",
        "  for i in range(n):\n",
        "    numerator += (X[i] - x_mean) * (Y[i] - y_mean)\n",
        "    denominator += (X[i] - x_mean) ** 2\n",
        "  \n",
        "  b1 = numerator/denominator\n",
        "  b0 = y_mean - (b1 * x_mean)\n",
        "  y_cap = b0 + np.dot(X, b1)\n",
        "\n",
        "  # Plot the regression line\n",
        "  ax.scatter(data_df[feature], data_df['sales'], color=c , marker='.')\n",
        "  ax.plot(X, y_cap, color='black')\n",
        "  ax.set_xlabel(feature)\n",
        "  ax.set_ylabel(\"sales\")\n",
        "  ax.set_title((\"$y$ = %3f + %3f$x$\" %(b0, b1)))\n",
        "\n",
        "# Train model using TV data to predict sale\n",
        "ax0 = fig.add_subplot(gs[0])\n",
        "train_plot(data_df, \"TV\", ax0, \"red\")\n",
        "\n",
        "# Train model usinf radio data\n",
        "ax0 = fig.add_subplot(gs[1])\n",
        "train_plot(data_df, \"radio\", ax0, \"green\")\n",
        "\n",
        "# Train model using newspaper data\n",
        "ax0 = fig.add_subplot(gs[2])\n",
        "train_plot(data_df, \"newspaper\", ax0, \"blue\")\n",
        "\n",
        "plt.show()"
      ],
      "metadata": {
        "colab": {
          "base_uri": "https://localhost:8080/",
          "height": 296
        },
        "id": "ElGUT0hc6nKR",
        "outputId": "8077498a-63f0-44ba-dac9-6bd936d3216e"
      },
      "execution_count": null,
      "outputs": [
        {
          "output_type": "display_data",
          "data": {
            "text/plain": [
              "<Figure size 1080x288 with 3 Axes>"
            ],
            "image/png": "[encoded data removed]"
          },
          "metadata": {
            "needs_background": "light"
          }
        }
      ]
    },
    {
      "cell_type": "code",
      "source": [
        "# Training Linear Regression using TV and Radio features\n",
        "X = data_df[[\"TV\", \"radio\"]]\n",
        "y = data_df[[\"sales\"]]\n",
        "\n",
        "# set bias/intercept term to 1 for each 200 samples\n",
        "X = np.c_[np.ones((200, 1)), X]\n",
        "X_transpose = np.transpose(X)\n",
        "\n",
        "# implementing least square solution of matrix form\n",
        "betas = np.linalg.inv(X_transpose.dot(X)).dot(X_transpose).dot(y)\n",
        "\n",
        "message = \"\"\"<strong>TV and Radio</strong> <br>\n",
        "$y$ = {:.2f} + {:.2f}$x_{{1}}$ + {:.2f}$x_{{2}}$ <br>\n",
        "$x_{{1}}$ = TV <br>\n",
        "$x_{{2}}$ = radio\n",
        "\"\"\".format(*betas[0], *betas[1], *betas[2])\n",
        "display(HTML( message ))\n",
        "\n",
        "print(\"\")\n",
        "\n",
        "# # Training Linear Regression using all features\n",
        "X = data_df[[\"TV\", \"radio\", \"newspaper\"]]\n",
        "y = data_df[[\"sales\"]]\n",
        "\n",
        "# set bias/intercept term to 1 for each 200 samples\n",
        "X = np.c_[np.ones((200, 1)), X]\n",
        "X_transpose = np.transpose(X)\n",
        "\n",
        "# implementing least square solution of matrix form\n",
        "betas = np.linalg.inv(X_transpose.dot(X)).dot(X_transpose).dot(y)\n",
        "\n",
        "message = \"\"\"<strong>TV, Radio, and Newspaper</strong> <br>\n",
        "$y$ = {:.2f} + {:.2f}$x_{{1}}$ + {:.2f}$x_{{2}}$ + {:.2f}$x_{{3}}$ <br>\n",
        "$x_{{1}}$ = TV <br>\n",
        "$x_{{2}}$ = radio <br>\n",
        "$x_{{3}}$ = newspaper\n",
        "\"\"\".format(*betas[0], *betas[1], *betas[2], *betas[3])\n",
        "display(HTML( message ))"
      ],
      "metadata": {
        "colab": {
          "base_uri": "https://localhost:8080/",
          "height": 191
        },
        "id": "5tsK4M9v_l3D",
        "outputId": "cd2c9856-ed50-47e9-eb2a-9f4efe6267e7"
      },
      "execution_count": null,
      "outputs": [
        {
          "output_type": "display_data",
          "data": {
            "text/plain": [
              "<IPython.core.display.HTML object>"
            ],
            "text/html": [
              "<strong>TV and Radio</strong> <br>\n",
              "$y$ = 2.92 + 0.05$x_{1}$ + 0.19$x_{2}$ <br>\n",
              "$x_{1}$ = TV <br>\n",
              "$x_{2}$ = radio\n"
            ]
          },
          "metadata": {}
        },
        {
          "output_type": "stream",
          "name": "stdout",
          "text": [
            "\n"
          ]
        },
        {
          "output_type": "display_data",
          "data": {
            "text/plain": [
              "<IPython.core.display.HTML object>"
            ],
            "text/html": [
              "<strong>TV, Radio, and Newspaper</strong> <br>\n",
              "$y$ = 2.94 + 0.05$x_{1}$ + 0.19$x_{2}$ + -0.00$x_{3}$ <br>\n",
              "$x_{1}$ = TV <br>\n",
              "$x_{2}$ = radio <br>\n",
              "$x_{3}$ = newspaper\n"
            ]
          },
          "metadata": {}
        }
      ]
    },
    {
      "cell_type": "code",
      "source": [
        ""
      ],
      "metadata": {
        "id": "NIeJcqh1DgF3"
      },
      "execution_count": null,
      "outputs": []
    }
  ]
}